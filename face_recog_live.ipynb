{
 "cells": [
  {
   "cell_type": "code",
   "execution_count": 1,
   "metadata": {},
   "outputs": [],
   "source": [
    "import face_recognition\n",
    "import cv2\n",
    "import numpy as np"
   ]
  },
  {
   "cell_type": "code",
   "execution_count": 2,
   "metadata": {},
   "outputs": [],
   "source": [
    "imgMe = face_recognition.load_image_file(\"picture.jpg\")\n",
    "imgMe = cv2.cvtColor(imgMe, cv2.COLOR_BGR2RGB)\n",
    "imgMe2 = face_recognition.load_image_file(\"me2.jpg\")\n",
    "imgMe2 = cv2.cvtColor(imgMe2, cv2.COLOR_BGR2RGB)"
   ]
  },
  {
   "cell_type": "code",
   "execution_count": 4,
   "metadata": {},
   "outputs": [
    {
     "data": {
      "text/plain": [
       "array([[[ 84, 102, 103],\n",
       "        [ 82, 100, 101],\n",
       "        [ 81,  99,  98],\n",
       "        ...,\n",
       "        [ 71,  70,  44],\n",
       "        [ 70,  69,  41],\n",
       "        [ 70,  69,  41]],\n",
       "\n",
       "       [[ 83, 101, 102],\n",
       "        [ 82, 100, 101],\n",
       "        [ 81,  99, 100],\n",
       "        ...,\n",
       "        [ 72,  71,  45],\n",
       "        [ 70,  69,  41],\n",
       "        [ 70,  69,  41]],\n",
       "\n",
       "       [[ 85, 100, 103],\n",
       "        [ 85, 100, 102],\n",
       "        [ 85, 103, 104],\n",
       "        ...,\n",
       "        [ 72,  71,  43],\n",
       "        [ 69,  68,  40],\n",
       "        [ 68,  67,  39]],\n",
       "\n",
       "       ...,\n",
       "\n",
       "       [[ 42,  29,   3],\n",
       "        [ 40,  27,   1],\n",
       "        [ 40,  25,   0],\n",
       "        ...,\n",
       "        [  6,   1,   3],\n",
       "        [  7,   0,   3],\n",
       "        [  7,   0,   3]],\n",
       "\n",
       "       [[ 42,  26,   3],\n",
       "        [ 41,  25,   2],\n",
       "        [ 39,  23,   0],\n",
       "        ...,\n",
       "        [  6,   0,   5],\n",
       "        [  6,   0,   5],\n",
       "        [  6,   0,   5]],\n",
       "\n",
       "       [[ 41,  25,   2],\n",
       "        [ 40,  24,   1],\n",
       "        [ 39,  23,   0],\n",
       "        ...,\n",
       "        [  6,   0,   5],\n",
       "        [  6,   0,   5],\n",
       "        [  6,   0,   5]]], dtype=uint8)"
      ]
     },
     "execution_count": 4,
     "metadata": {},
     "output_type": "execute_result"
    }
   ],
   "source": [
    "faceLoc = face_recognition.face_locations(imgMe)[0]\n",
    "encodeMe = face_recognition.face_encodings(imgMe)[0]\n",
    "cv2.rectangle(imgMe,(faceLoc[3],faceLoc[0]),(faceLoc[1],faceLoc[2]),(255,0,255),2) # top, right, bottom, left\n",
    " \n",
    "faceLocTest = face_recognition.face_locations(imgMe2)[0]\n",
    "encodeMe2 = face_recognition.face_encodings(imgMe2)[0]\n",
    "cv2.rectangle(imgMe2,(faceLocTest[3],faceLocTest[0]),(faceLocTest[1],faceLocTest[2]),(255,0,255),2)"
   ]
  },
  {
   "cell_type": "code",
   "execution_count": 7,
   "metadata": {},
   "outputs": [
    {
     "data": {
      "text/plain": [
       "-1"
      ]
     },
     "execution_count": 7,
     "metadata": {},
     "output_type": "execute_result"
    }
   ],
   "source": [
    "results = face_recognition.compare_faces([encodeMe], encodeMe2)\n",
    "faceDis = face_recognition.face_distance([encodeMe], encodeMe2)\n",
    "cv2.putText(imgMe2,f'{results} {round(faceDis[0],2)} ',(50,50),cv2.FONT_HERSHEY_COMPLEX,1,(255,0,255),3)\n",
    "cv2.imshow(\"Me\", imgMe)\n",
    "cv2.imshow(\"Me2\", imgMe2)\n",
    "cv2.waitKey(0)"
   ]
  },
  {
   "cell_type": "code",
   "execution_count": 14,
   "metadata": {},
   "outputs": [
    {
     "data": {
      "text/plain": [
       "-1"
      ]
     },
     "execution_count": 14,
     "metadata": {},
     "output_type": "execute_result"
    }
   ],
   "source": [
    "imgFriend = face_recognition.load_image_file(\"ronaldo.jpg\")\n",
    "imgFriend = cv2.cvtColor(imgFriend, cv2.COLOR_BGR2RGB)\n",
    "LocFriend = face_recognition.face_locations(imgFriend)[0]\n",
    "encodeFriend = face_recognition.face_encodings(imgFriend)[0]\n",
    "cv2.rectangle(imgFriend,(LocFriend[3],LocFriend[0]),(LocFriend[1],LocFriend[2]),(255,0,255),2)\n",
    "results_wrong = face_recognition.compare_faces([encodeMe], encodeFriend)\n",
    "faceDis_wrong = face_recognition.face_distance([encodeMe], encodeFriend)\n",
    "\n",
    "cv2.putText(imgFriend,f'{results_wrong} {round(faceDis_wrong[0],2)} ',(50,50),cv2.FONT_HERSHEY_COMPLEX,1,(255,0,255),3)\n",
    "cv2.imshow(\"Me\", imgMe)\n",
    "cv2.imshow(\"Friend\", imgFriend)\n",
    "cv2.waitKey(0)"
   ]
  }
 ],
 "metadata": {
  "kernelspec": {
   "display_name": "face_recog_live-Hyl8q4vf",
   "language": "python",
   "name": "python3"
  },
  "language_info": {
   "codemirror_mode": {
    "name": "ipython",
    "version": 3
   },
   "file_extension": ".py",
   "mimetype": "text/x-python",
   "name": "python",
   "nbconvert_exporter": "python",
   "pygments_lexer": "ipython3",
   "version": "3.10.7"
  }
 },
 "nbformat": 4,
 "nbformat_minor": 2
}
