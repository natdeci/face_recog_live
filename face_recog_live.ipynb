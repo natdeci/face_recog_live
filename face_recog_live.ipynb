{
 "cells": [
  {
   "cell_type": "code",
   "execution_count": 1,
   "metadata": {},
   "outputs": [],
   "source": [
    "import face_recognition\n",
    "import cv2\n",
    "import numpy as np"
   ]
  },
  {
   "cell_type": "code",
   "execution_count": 3,
   "metadata": {},
   "outputs": [],
   "source": [
    "# testing the camera\n",
    "# I copied this from https://www.geeksforgeeks.org/python-opencv-capture-video-from-camera/\n",
    "\n",
    "cam = cv2.VideoCapture(0)\n",
    "frame_width = int(cam.get(cv2.CAP_PROP_FRAME_WIDTH))\n",
    "frame_height = int(cam.get(cv2.CAP_PROP_FRAME_HEIGHT))\n",
    "\n",
    "# Define the codec and create VideoWriter object\n",
    "fourcc = cv2.VideoWriter_fourcc(*'mp4v')\n",
    "out = cv2.VideoWriter('output.mp4', fourcc, 20.0, (frame_width, frame_height))\n",
    "\n",
    "while True:\n",
    "    ret, frame = cam.read()\n",
    "\n",
    "    # Write the frame to the output file\n",
    "    out.write(frame)\n",
    "\n",
    "    # Display the captured frame\n",
    "    cv2.imshow('Camera', frame)\n",
    "\n",
    "    # Press 'q' to exit the loop\n",
    "    if cv2.waitKey(1) == ord('q'):\n",
    "        break\n",
    "\n",
    "# Release the capture and writer objects\n",
    "cam.release()\n",
    "out.release()\n",
    "cv2.destroyAllWindows()"
   ]
  },
  {
   "cell_type": "code",
   "execution_count": 4,
   "metadata": {},
   "outputs": [],
   "source": [
    "my_image = face_recognition.load_image_file(\"picture.jpg\")\n",
    "my_image_encoding = face_recognition.face_encodings(my_image)[0]\n",
    "\n",
    "my_friend_image = face_recognition.load_image_file(\"my_friend1.jpg\")\n",
    "my_friend_encoding = face_recognition.face_encodings(my_friend_image)[0]\n",
    "\n",
    "my_friend_image2 = face_recognition.load_image_file(\"my_friend2.jpg\")\n",
    "my_friend_encoding2 = face_recognition.face_encodings(my_friend_image2)[0]\n",
    "\n",
    "known_face_encodings = [\n",
    "    my_image_encoding,\n",
    "    my_friend_encoding,\n",
    "    my_friend_encoding2\n",
    "]\n",
    "\n",
    "known_face_name = [\n",
    "    \"Nathan\",\n",
    "    \"Putra\",\n",
    "    \"Andika\"\n",
    "]"
   ]
  }
 ],
 "metadata": {
  "kernelspec": {
   "display_name": "face_recog_live-Hyl8q4vf",
   "language": "python",
   "name": "python3"
  },
  "language_info": {
   "codemirror_mode": {
    "name": "ipython",
    "version": 3
   },
   "file_extension": ".py",
   "mimetype": "text/x-python",
   "name": "python",
   "nbconvert_exporter": "python",
   "pygments_lexer": "ipython3",
   "version": "3.10.7"
  }
 },
 "nbformat": 4,
 "nbformat_minor": 2
}
